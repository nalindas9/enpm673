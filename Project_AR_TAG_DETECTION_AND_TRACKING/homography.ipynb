{
  "nbformat": 4,
  "nbformat_minor": 0,
  "metadata": {
    "colab": {
      "name": "Untitled2.ipynb",
      "provenance": []
    },
    "kernelspec": {
      "name": "python3",
      "display_name": "Python 3"
    }
  },
  "cells": [
    {
      "cell_type": "code",
      "metadata": {
        "id": "E6zYQQy6q5dF",
        "colab_type": "code",
        "colab": {
          "base_uri": "https://localhost:8080/",
          "height": 69
        },
        "outputId": "dccc61f9-c1b9-49b0-aa05-2a6259a938ae"
      },
      "source": [
        "import numpy as np\n",
        "\n",
        "#sample points\n",
        "p1=[[155,120],[480,120],[20,475],[620,475]]\n",
        "p2=[[0,0],[400,0],[0,600],[400,600]]\n",
        "def homography(p1, p2):\n",
        "  A= []\n",
        "  for val in range(0,len(p1)):\n",
        "    x_1 = p1[val][0]\n",
        "    y_1 = p1[val][1]\n",
        "    x_2 = p2[val][0] \n",
        "    y_2 = p2[val][1]\n",
        "    A.append([x_1, y_1, 1 ,0 ,0 ,0, -x_2 * x_1, -x_2 * y_1, -x_2 ])\n",
        "    A.append([0, 0 ,0 ,x_1, y_1, 1, -y_2*x_1, -y_2 * y_1, -y_2 ])\n",
        "\n",
        "  A=np.array(A)\n",
        "  u,S,V = np.linalg.svd(A)\n",
        "  #print(V)\n",
        "  l= V[-1,:]/V[-1,-1]\n",
        "  h= np.reshape(l,(3,3))\n",
        "  return h\n",
        "\n",
        "#def correct_img():\n",
        "homography(p1,p2)\n",
        "\n",
        "\n"
      ],
      "execution_count": 1,
      "outputs": [
        {
          "output_type": "execute_result",
          "data": {
            "text/plain": [
              "array([[ 1.72382398e+00,  6.55538695e-01, -3.45857360e+02],\n",
              "       [ 9.45400983e-14,  4.37025797e+00, -5.24430956e+02],\n",
              "       [ 7.41659579e-14,  3.33839150e-03,  1.00000000e+00]])"
            ]
          },
          "metadata": {
            "tags": []
          },
          "execution_count": 1
        }
      ]
    },
    {
      "cell_type": "code",
      "metadata": {
        "id": "flO5eRtWsDcz",
        "colab_type": "code",
        "colab": {}
      },
      "source": [
        ""
      ],
      "execution_count": 0,
      "outputs": []
    },
    {
      "cell_type": "code",
      "metadata": {
        "id": "Sw_3rX4nravN",
        "colab_type": "code",
        "colab": {
          "base_uri": "https://localhost:8080/",
          "height": 69
        },
        "outputId": "828a3b38-6316-4cbd-e3ed-4a550e163baf"
      },
      "source": [
        "import numpy as np\n",
        "import cv2\n",
        "from google.colab.patches import cv2_imshow\n",
        "\n",
        "p1=np.array([[155,120],[480,120],[20,475],[620,475]])\n",
        "p2=np.array([[0,0],[400,0],[0,600],[400,600]])\n",
        "\n",
        "h, status= cv2.findHomography(p1,p2)\n",
        "print(h)"
      ],
      "execution_count": 3,
      "outputs": [
        {
          "output_type": "stream",
          "text": [
            "[[ 1.72382398e+00  6.55538695e-01 -3.45857360e+02]\n",
            " [-5.61587082e-16  4.37025797e+00 -5.24430956e+02]\n",
            " [-1.06321633e-18  3.33839150e-03  1.00000000e+00]]\n"
          ],
          "name": "stdout"
        }
      ]
    }
  ]
}